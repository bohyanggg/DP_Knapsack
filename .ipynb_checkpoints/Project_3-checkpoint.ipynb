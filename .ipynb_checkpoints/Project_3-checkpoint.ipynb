{
 "cells": [
  {
   "cell_type": "markdown",
   "metadata": {
    "id": "J11p_18hZ4nj"
   },
   "source": [
    "### We have a knapsack of capacity weight C (a positive integer) and n types of objects. Each object of the ith type has weight wi and profit pi (all wi and all pi are positive integers, i = 0, 1, …, n-1). ***There are unlimited supplies of each type of objects.*** Find the largest total profit of any set of the objects that fits in the knapsack.\n",
    "### *Let P(C) be the maximum profit that can be made by packing objects into the knapsack of capacity C.*"
   ]
  },
  {
   "cell_type": "markdown",
   "metadata": {
    "id": "w9DC6MRJaPjo"
   },
   "source": [
    "(3) Give a dynamic programming algorithm to compute the maximum profit, given a\n",
    "knapsack of capacity C, n types of objects with weights wi and profits pi using the bottom up approach.\n",
    "\n",
    "\n",
    "---\n",
    "\n",
    "\n",
    "\n",
    "(4) Code your algorithm in a programming language\n",
    "\n",
    "\n",
    "a. show the running result of P(14) with weights and profits given in (2).\n",
    "\n",
    "\n",
    "b. Show the running result of P(14) with weights and profits given below.\n",
    "You should show the program input and the output in (a) and (b).\n",
    " \n",
    "   0 1 2\n",
    "\n",
    "\n",
    "wi 5 6 8\n",
    "\n",
    "\n",
    "pi 7 6 9"
   ]
  },
  {
   "cell_type": "code",
   "execution_count": null,
   "metadata": {
    "id": "9Wmq7ASs-4Ua"
   },
   "outputs": [],
   "source": [
    "# Question 3 in C\n",
    "int knapsack(int [] wi, int [] pi, int C, int n)\n",
    "  { \n",
    "      for r = 0 to C\n",
    "        profit[r] = 0\n",
    "   \n",
    "      for r = 0 to C\n",
    "        for c = 0 to n\n",
    "          if (wi[c] <= r)\n",
    "            if (profit[r] < profit[r-wi[c]] + pi[c])\n",
    "              profit[r] = profit[r-wi[c]] + pi[c]\n",
    "   \n",
    "     return profit[C]\n",
    "  }"
   ]
  },
  {
   "cell_type": "code",
   "execution_count": null,
   "metadata": {
    "id": "WP6SLBD7sgTO"
   },
   "outputs": [],
   "source": [
    "# Question 4\n",
    "def knapsack(wi, pi, C):\n",
    "  profit = []\n",
    "\n",
    "  for r in range(C+1):\n",
    "    profit.append(0)\n",
    "\n",
    "  for r in range(C+1):\n",
    "    for c in range(len(wi)):\n",
    "      if (wi[c] <= r):\n",
    "        if(profit[r] < profit[r-wi[c]] + pi[c]):\n",
    "          profit[r] = profit[r-wi[c]] + pi[c]\n",
    "\n",
    "  print(\"Running Result of P({}): {}\".format(C, profit))\n",
    "  return profit[C]"
   ]
  },
  {
   "cell_type": "code",
   "execution_count": null,
   "metadata": {
    "colab": {
     "base_uri": "https://localhost:8080/"
    },
    "id": "tkAd3nZBKCU0",
    "outputId": "69a6153c-b1f8-4a3e-a800-5e48e0952103"
   },
   "outputs": [
    {
     "name": "stdout",
     "output_type": "stream",
     "text": [
      "Running Result of P(14): [0, 0, 0, 0, 7, 7, 7, 7, 14, 14, 14, 14, 21, 21, 21]\n",
      "Max Profit: 21\n"
     ]
    }
   ],
   "source": [
    "# Question 4a\n",
    "wi = [4, 6, 8]\n",
    "pi = [7, 6, 9]\n",
    "\n",
    "print(\"Max Profit:\", knapsack(wi, pi, 14))"
   ]
  },
  {
   "cell_type": "code",
   "execution_count": null,
   "metadata": {
    "colab": {
     "base_uri": "https://localhost:8080/"
    },
    "id": "ALVeuqPdKE6e",
    "outputId": "fbd9b8b2-56b3-49e4-e178-3465392bc1dc"
   },
   "outputs": [
    {
     "name": "stdout",
     "output_type": "stream",
     "text": [
      "Running Result of P(14): [0, 0, 0, 0, 0, 7, 7, 7, 9, 9, 14, 14, 14, 16, 16]\n",
      "Max Profit: 16\n"
     ]
    }
   ],
   "source": [
    "# Question 4b\n",
    "wi = [5, 6, 8]\n",
    "pi = [7, 6, 9]\n",
    "\n",
    "print(\"Max Profit:\", knapsack(wi, pi, 14))"
   ]
  },
  {
   "cell_type": "code",
   "execution_count": 6,
   "metadata": {
    "id": "GDW6DPnH3LwH"
   },
   "outputs": [],
   "source": [
    "def knapsack_with_replacement (wi, pi, C):\n",
    "    n = len(pi)\n",
    "    table = [[0] * (C + 1) for i in range(n)]\n",
    "    \n",
    "    for c in range (n):\n",
    "        table[c][0] = 0\n",
    "        \n",
    "    for r in range (C + 1):\n",
    "        table[0][r] = (r // wi[0]) * pi[0]\n",
    "        \n",
    "    for i in range (1, n):\n",
    "        for c in range (1, C + 1):\n",
    "            if (wi[i] <= c):\n",
    "                table[i][c] = max (table[i-1][c], pi[i] + table[i][c - wi[i]])\n",
    "            else:\n",
    "                table[i][c] = table[i - 1][c]\n",
    "                \n",
    "    print(\"               \", end=\"\")\n",
    "    for i in range(n):\n",
    "        print(\"item\", i+1, end=\"  \")\n",
    "    print()\n",
    "    for j in range (C + 1):\n",
    "        print(\"Capacity =\", j, end =\"\\t\")\n",
    "        for i in range (n):\n",
    "            print(table[i][j], end = \"\\t\")\n",
    "        print()\n",
    "    \n",
    "    print(\"\\nMaximum Profit =\", table [i][c])"
   ]
  },
  {
   "cell_type": "code",
   "execution_count": 7,
   "metadata": {},
   "outputs": [
    {
     "name": "stdout",
     "output_type": "stream",
     "text": [
      "               item 1  item 2  item 3  \n",
      "Capacity = 0\t0\t0\t0\t\n",
      "Capacity = 1\t0\t0\t0\t\n",
      "Capacity = 2\t0\t0\t0\t\n",
      "Capacity = 3\t0\t0\t0\t\n",
      "Capacity = 4\t7\t7\t7\t\n",
      "Capacity = 5\t7\t7\t7\t\n",
      "Capacity = 6\t7\t7\t7\t\n",
      "Capacity = 7\t7\t7\t7\t\n",
      "Capacity = 8\t14\t14\t14\t\n",
      "Capacity = 9\t14\t14\t14\t\n",
      "Capacity = 10\t14\t14\t14\t\n",
      "Capacity = 11\t14\t14\t14\t\n",
      "Capacity = 12\t21\t21\t21\t\n",
      "Capacity = 13\t21\t21\t21\t\n",
      "Capacity = 14\t21\t21\t21\t\n",
      "\n",
      "Maximum Profit = 21\n"
     ]
    }
   ],
   "source": [
    "# Question 4a\n",
    "wi = [4, 6, 8]\n",
    "pi = [7, 6, 9]\n",
    "\n",
    "knapsack_with_replacement(wi, pi, 14)"
   ]
  },
  {
   "cell_type": "code",
   "execution_count": 8,
   "metadata": {},
   "outputs": [
    {
     "name": "stdout",
     "output_type": "stream",
     "text": [
      "               item 1  item 2  item 3  \n",
      "Capacity = 0\t0\t0\t0\t\n",
      "Capacity = 1\t0\t0\t0\t\n",
      "Capacity = 2\t0\t0\t0\t\n",
      "Capacity = 3\t0\t0\t0\t\n",
      "Capacity = 4\t0\t0\t0\t\n",
      "Capacity = 5\t7\t7\t7\t\n",
      "Capacity = 6\t7\t7\t7\t\n",
      "Capacity = 7\t7\t7\t7\t\n",
      "Capacity = 8\t7\t7\t9\t\n",
      "Capacity = 9\t7\t7\t9\t\n",
      "Capacity = 10\t14\t14\t14\t\n",
      "Capacity = 11\t14\t14\t14\t\n",
      "Capacity = 12\t14\t14\t14\t\n",
      "Capacity = 13\t14\t14\t16\t\n",
      "Capacity = 14\t14\t14\t16\t\n",
      "\n",
      "Maximum Profit = 16\n"
     ]
    }
   ],
   "source": [
    "# Question 4b\n",
    "wi = [5, 6, 8]\n",
    "pi = [7, 6, 9]\n",
    "\n",
    "knapsack_with_replacement(wi, pi, 14)"
   ]
  },
  {
   "cell_type": "code",
   "execution_count": null,
   "metadata": {},
   "outputs": [],
   "source": []
  }
 ],
 "metadata": {
  "colab": {
   "collapsed_sections": [],
   "name": "Project 3.ipynb",
   "provenance": []
  },
  "kernelspec": {
   "display_name": "Python 3 (ipykernel)",
   "language": "python",
   "name": "python3"
  },
  "language_info": {
   "codemirror_mode": {
    "name": "ipython",
    "version": 3
   },
   "file_extension": ".py",
   "mimetype": "text/x-python",
   "name": "python",
   "nbconvert_exporter": "python",
   "pygments_lexer": "ipython3",
   "version": "3.9.7"
  }
 },
 "nbformat": 4,
 "nbformat_minor": 1
}
